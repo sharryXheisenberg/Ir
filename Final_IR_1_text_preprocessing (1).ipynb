{
 "cells": [
  {
   "cell_type": "code",
   "execution_count": 1,
   "id": "4770a426-61e2-4c0e-8d34-74bb72c53984",
   "metadata": {},
   "outputs": [
    {
     "name": "stdout",
     "output_type": "stream",
     "text": [
      "Defaulting to user installation because normal site-packages is not writeable\n",
      "Requirement already satisfied: nltk in c:\\users\\hp\\appdata\\roaming\\python\\python312\\site-packages (3.9.1)\n",
      "Collecting inflect\n",
      "  Downloading inflect-7.4.0-py3-none-any.whl.metadata (21 kB)\n",
      "Requirement already satisfied: click in c:\\users\\hp\\appdata\\roaming\\python\\python312\\site-packages (from nltk) (8.1.7)\n",
      "Requirement already satisfied: joblib in c:\\users\\hp\\appdata\\roaming\\python\\python312\\site-packages (from nltk) (1.4.2)\n",
      "Requirement already satisfied: regex>=2021.8.3 in c:\\users\\hp\\appdata\\roaming\\python\\python312\\site-packages (from nltk) (2024.9.11)\n",
      "Requirement already satisfied: tqdm in c:\\users\\hp\\appdata\\roaming\\python\\python312\\site-packages (from nltk) (4.66.6)\n",
      "Collecting more-itertools>=8.5.0 (from inflect)\n",
      "  Downloading more_itertools-10.5.0-py3-none-any.whl.metadata (36 kB)\n",
      "Collecting typeguard>=4.0.1 (from inflect)\n",
      "  Downloading typeguard-4.4.1-py3-none-any.whl.metadata (3.7 kB)\n",
      "Collecting typing-extensions>=4.10.0 (from typeguard>=4.0.1->inflect)\n",
      "  Downloading typing_extensions-4.12.2-py3-none-any.whl.metadata (3.0 kB)\n",
      "Requirement already satisfied: colorama in c:\\users\\hp\\appdata\\roaming\\python\\python312\\site-packages (from click->nltk) (0.4.6)\n",
      "Downloading inflect-7.4.0-py3-none-any.whl (34 kB)\n",
      "Downloading more_itertools-10.5.0-py3-none-any.whl (60 kB)\n",
      "Downloading typeguard-4.4.1-py3-none-any.whl (35 kB)\n",
      "Downloading typing_extensions-4.12.2-py3-none-any.whl (37 kB)\n",
      "Installing collected packages: typing-extensions, more-itertools, typeguard, inflect\n",
      "Successfully installed inflect-7.4.0 more-itertools-10.5.0 typeguard-4.4.1 typing-extensions-4.12.2\n",
      "Note: you may need to restart the kernel to use updated packages.\n"
     ]
    },
    {
     "name": "stderr",
     "output_type": "stream",
     "text": [
      "\n",
      "[notice] A new release of pip is available: 24.2 -> 24.3.1\n",
      "[notice] To update, run: python.exe -m pip install --upgrade pip\n"
     ]
    }
   ],
   "source": [
    "pip install nltk inflect"
   ]
  },
  {
   "cell_type": "code",
   "execution_count": 2,
   "id": "e86771e1-3450-4207-92aa-c49ec19db684",
   "metadata": {},
   "outputs": [],
   "source": [
    "# practice"
   ]
  },
  {
   "cell_type": "code",
   "execution_count": null,
   "id": "6aa05f44-87d7-4b9e-b03c-6b21fc045554",
   "metadata": {},
   "outputs": [],
   "source": []
  },
  {
   "cell_type": "code",
   "execution_count": 15,
   "id": "cd5feac8-f8b5-496a-a836-63ad45606bce",
   "metadata": {},
   "outputs": [],
   "source": [
    "import re\n",
    "import string\n",
    "import inflect\n",
    "from nltk.corpus import stopwords\n",
    "from nltk.tokenize import word_tokenize\n",
    "from nltk.stem import PorterStemmer\n",
    "\n",
    "# Initialize components\n",
    "stop_words = set(stopwords.words('english'))\n",
    "stemmer = PorterStemmer()\n",
    "inflect_engine = inflect.engine()\n"
   ]
  },
  {
   "cell_type": "code",
   "execution_count": 18,
   "id": "deaeb69f-774a-4182-bafa-987c446a56db",
   "metadata": {},
   "outputs": [],
   "source": [
    "\n",
    "# Function to convert to lowercase\n",
    "def to_lower(text):\n",
    "    return text.lower()\n",
    "\n",
    "# Function to convert to uppercase\n",
    "def to_upper(text):\n",
    "    return text.upper()\n",
    "\n",
    "# Function to remove numbers\n",
    "def remove_numbers(text):\n",
    "    return re.sub(r'\\d+', ' ', text)\n",
    "\n",
    "# Function to remove URLs\n",
    "def remove_urls(text):\n",
    "    return re.sub(r'http\\S+|www\\S+|https\\S+', '', text)\n",
    "\n",
    "# Function to remove special characters\n",
    "def remove_special_characters(text):\n",
    "    return re.sub(r'[^a-zA-Z\\s]', '', text)\n",
    "\n",
    "# Function to tokenize text\n",
    "def tokenize(text):\n",
    "    return word_tokenize(text)\n",
    "\n",
    "# Function for stop word removal\n",
    "def remove_stopwords(text):\n",
    "    words = word_tokenize(text)\n",
    "    return ' '.join([word for word in words if word.lower() not in stop_words])\n",
    "\n",
    "# Function for stemming\n",
    "def apply_stemming(text):\n",
    "    words = word_tokenize(text)\n",
    "    return ' '.join([stemmer.stem(word) for word in words])\n",
    "\n",
    "# Function to convert numbers to words using inflect\n",
    "def convert_numbers_to_words(text):\n",
    "    words = word_tokenize(text)\n",
    "    words = [inflect_engine.number_to_words(word) if word.isdigit() else word for word in words]\n",
    "    return ' '.join(words)\n",
    "\n",
    "# Combined preprocessing function\n",
    "def preprocess_text(text):\n",
    "    text = to_lower(text)\n",
    "    text = remove_urls(text)\n",
    "    text = remove_stopwords(text)\n",
    "    text = apply_stemming(text)\n",
    "    text = remove_special_characters(text)\n",
    "    return text\n"
   ]
  },
  {
   "cell_type": "code",
   "execution_count": 20,
   "id": "6d13e97e-17bf-4cd0-abac-7b5eb975df30",
   "metadata": {},
   "outputs": [
    {
     "name": "stdin",
     "output_type": "stream",
     "text": [
      "Enter the text:  0\n"
     ]
    },
    {
     "name": "stdout",
     "output_type": "stream",
     "text": [
      "\n",
      "**************************************************************************************\n",
      "****** Operation Menu ******\n",
      "0) Exit\n",
      "1) Convert string to lower case\n",
      "2) Convert string to upper case\n",
      "3) Number removal\n",
      "4) Remove URLs\n",
      "5) Remove special characters\n",
      "6) Convert numbers to words\n",
      "7) Remove stop words\n",
      "8) Apply stemming\n",
      "9) Tokenization\n",
      "10) Total Pre-Processing\n"
     ]
    },
    {
     "name": "stdin",
     "output_type": "stream",
     "text": [
      "\n",
      "Enter the choice:  0\n"
     ]
    },
    {
     "name": "stdout",
     "output_type": "stream",
     "text": [
      "Exiting the program.\n"
     ]
    }
   ],
   "source": [
    "text = input(\"Enter the text: \")\n",
    "while True:\n",
    "    print(\"\\n**************************************************************************************\")\n",
    "    print(\"****** Operation Menu ******\")\n",
    "    print(\"0) Exit\")\n",
    "    print(\"1) Convert string to lower case\")\n",
    "    print(\"2) Convert string to upper case\")\n",
    "    print(\"3) Number removal\")\n",
    "    print(\"4) Remove URLs\")\n",
    "    print(\"5) Remove special characters\")\n",
    "    print(\"6) Convert numbers to words\")\n",
    "    print(\"7) Remove stop words\")\n",
    "    print(\"8) Apply stemming\")\n",
    "    print(\"9) Tokenization\")\n",
    "    print(\"10) Total Pre-Processing\")\n",
    "    \n",
    "    choice = int(input(\"\\nEnter the choice: \"))\n",
    "    \n",
    "    if choice == 0:\n",
    "        print(\"Exiting the program.\")\n",
    "        break\n",
    "    elif choice == 1:\n",
    "        print(\"Result:\", to_lower(text))\n",
    "    elif choice == 2:\n",
    "        print(\"Result:\", to_upper(text))\n",
    "    elif choice == 3:\n",
    "        print(\"Result:\", remove_numbers(text))\n",
    "    elif choice == 4:\n",
    "        print(\"Result:\", remove_urls(text))\n",
    "    elif choice == 5:\n",
    "        print(\"Result:\", remove_special_characters(text))\n",
    "    elif choice == 6:\n",
    "        print(\"Result:\", convert_numbers_to_words(text))\n",
    "    elif choice == 7:\n",
    "        print(\"Result:\", remove_stopwords(text))\n",
    "    elif choice == 8:\n",
    "        print(\"Result:\", apply_stemming(text))\n",
    "    elif choice == 9:\n",
    "        print(\"Result:\", tokenize(text))\n",
    "    elif choice == 10:\n",
    "        print(\"Result:\", preprocess_text(text))\n",
    "    else:\n",
    "        print(\"Invalid choice. Please select a valid option.\")"
   ]
  },
  {
   "cell_type": "code",
   "execution_count": 5,
   "id": "1d2f51cf-a014-4851-8b39-300152303598",
   "metadata": {},
   "outputs": [],
   "source": [
    "import re\n",
    "import inflect \n",
    "import string"
   ]
  },
  {
   "cell_type": "code",
   "execution_count": 6,
   "id": "64530d40-f56a-46a7-a323-5fbe28afc899",
   "metadata": {},
   "outputs": [],
   "source": [
    "from nltk.corpus import stopwords\n",
    "from nltk.stem import PorterStemmer\n",
    "from nltk.tokenize import word_tokenize"
   ]
  },
  {
   "cell_type": "code",
   "execution_count": 7,
   "id": "e229c98e-b72f-480a-8c7d-89592353cc1c",
   "metadata": {},
   "outputs": [],
   "source": [
    "stop_words = set(stopwords.words('english'))\n",
    "stemmer = PorterStemmer()\n",
    "inf_eng = inflect.engine()"
   ]
  },
  {
   "cell_type": "code",
   "execution_count": 16,
   "id": "a0177df7-b27b-497a-9d17-4a1d5040851f",
   "metadata": {},
   "outputs": [],
   "source": [
    "def to_lower(text):\n",
    "    return text.lower()\n",
    "\n",
    "def to_upper(text):\n",
    "    return text.upper()\n",
    "\n",
    "def remove_numbers(text):\n",
    "    return re.sub(r'\\d+' , ' ' , text)\n",
    "\n",
    "def remove_urls(text):\n",
    "    return re.sub(r'http\\S+|www\\S+|https\\S+' , '' , text)\n",
    "\n",
    "def remove_special_char(text):\n",
    "    return re.sub(r'[^a-zA-s\\+]' , '' , text)\n",
    "\n",
    "def tokenize(text):\n",
    "    return word_tokenize(text)\n",
    "\n",
    "def remove_stopwords(text):\n",
    "    words = word_tokenize(text)\n",
    "    return ' '.join([word for word in words if word.lower() not in stop_words])\n",
    "\n",
    "def apply_stemming(text):\n",
    "    words = word_tokenize(text)\n",
    "    return ' '.join([stemmer.stem(word) for word in words])\n",
    "\n",
    "def convert_num_to_words(text):\n",
    "    words = word_tokenize(text)\n",
    "    words = [inf_eng.number_to_words(word) if word.isdigit() else word for word in words]\n",
    "    return ' '.join(words)\n",
    "\n",
    "# def preprocess_text(text):\n",
    "#     text = to_lower(text)\n",
    "#     text = to_upper(text)\n",
    "#     text = remove_numbers(text)\n",
    "#     text = remove_urls(text)\n",
    "#     text = remove_special_char(text)\n",
    "#     text = tokenize(text)\n",
    "#     # text = remove_stopwords(text)\n",
    "#     # text = apply_stemming(text)\n",
    "#     # text = convert_num_to_words(text)\n",
    "#     return text"
   ]
  },
  {
   "cell_type": "code",
   "execution_count": 17,
   "id": "6916b0e9-9b25-4cde-ad9f-4ac2e69f716c",
   "metadata": {},
   "outputs": [
    {
     "name": "stdin",
     "output_type": "stream",
     "text": [
      "Enter your text Hello, Myself Saurabh, studying in VPKBIET Baramati. Currently I am in four year of BE. My GitHub link is https://github.com/sharryXheisenberg My SGPA is 8\n"
     ]
    },
    {
     "name": "stdout",
     "output_type": "stream",
     "text": [
      "*********************************************************************\n",
      "########## operation menu ################\n",
      "0) exit\n",
      "1) convert string to lower case\n",
      "2) convert string to upper case\n",
      "3) remove numbers \n",
      "4) remove urls \n",
      "5) remove special characters \n",
      "6) convert number to words\n",
      "7) tokenization \n",
      "8) Stemming \n",
      "9) remove stopwords\n",
      "10) preprocess the text\n"
     ]
    },
    {
     "name": "stdin",
     "output_type": "stream",
     "text": [
      "\n",
      "Enter your choice 10\n"
     ]
    },
    {
     "name": "stdout",
     "output_type": "stream",
     "text": [
      "result ['HELLOMYSELFSAURABHSTUDYINGINVPKBIETBARAMATICURRENTLYIAMINFOURYEAROFBEMYGITHUBLINKISHTTPSGITHUBCOMSHARRYXHEISENBERGMYSGPAIS']\n",
      "*********************************************************************\n",
      "########## operation menu ################\n",
      "0) exit\n",
      "1) convert string to lower case\n",
      "2) convert string to upper case\n",
      "3) remove numbers \n",
      "4) remove urls \n",
      "5) remove special characters \n",
      "6) convert number to words\n",
      "7) tokenization \n",
      "8) Stemming \n",
      "9) remove stopwords\n",
      "10) preprocess the text\n"
     ]
    },
    {
     "name": "stdin",
     "output_type": "stream",
     "text": [
      "\n",
      "Enter your choice 0\n"
     ]
    },
    {
     "name": "stdout",
     "output_type": "stream",
     "text": [
      "Exit the program\n"
     ]
    }
   ],
   "source": [
    "text = input('Enter your text')\n",
    "\n",
    "while True:\n",
    "    print('*********************************************************************')\n",
    "    print('########## operation menu ################')\n",
    "    print('0) exit')\n",
    "    print('1) convert string to lower case')\n",
    "    print('2) convert string to upper case')\n",
    "    print('3) remove numbers ')\n",
    "    print('4) remove urls ')\n",
    "    print('5) remove special characters ')\n",
    "    print('6) convert number to words')\n",
    "    print('7) tokenization ' )\n",
    "    print('8) Stemming ')\n",
    "    print('9) remove stopwords')\n",
    "    # print('10) preprocess the text')\n",
    "\n",
    "    choice = int(input('\\nEnter your choice'))\n",
    "    \n",
    "    if choice == 0:\n",
    "        print('Exit the program')\n",
    "        break\n",
    "    elif choice == 1:\n",
    "        print('result', to_lower(text))\n",
    "\n",
    "    elif choice == 2:\n",
    "        print('result' , to_upper(text))\n",
    "\n",
    "    elif choice == 3:\n",
    "        print('result' , remove_numbers(text))\n",
    "\n",
    "    elif choice == 4:\n",
    "        print('result' , remove_urls(text))\n",
    "\n",
    "    elif choice == 5:\n",
    "        print('result' , remove_special_char(text))\n",
    "\n",
    "    elif choice == 6:\n",
    "        print('result' , convert_num_to_words(text))\n",
    "\n",
    "    elif choice == 7:\n",
    "        print('result' , tokenize(text))\n",
    "\n",
    "    elif choice == 8:\n",
    "        print('result' , apply_stemming(text))\n",
    "\n",
    "    elif choice == 9:\n",
    "        print('result' , remove_stopwords(text))\n",
    "\n",
    "    # elif choice == 10:\n",
    "    #     print('result' , preprocess_text(text))\n",
    "\n",
    "    else:\n",
    "        print('enter valid choice')\n",
    "\n"
   ]
  },
  {
   "cell_type": "code",
   "execution_count": null,
   "id": "490593df-45bc-4280-8b12-81618e55d1f0",
   "metadata": {},
   "outputs": [],
   "source": []
  }
 ],
 "metadata": {
  "kernelspec": {
   "display_name": "Python 3 (ipykernel)",
   "language": "python",
   "name": "python3"
  },
  "language_info": {
   "codemirror_mode": {
    "name": "ipython",
    "version": 3
   },
   "file_extension": ".py",
   "mimetype": "text/x-python",
   "name": "python",
   "nbconvert_exporter": "python",
   "pygments_lexer": "ipython3",
   "version": "3.12.6"
  }
 },
 "nbformat": 4,
 "nbformat_minor": 5
}
